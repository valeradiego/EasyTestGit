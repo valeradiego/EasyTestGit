{
  "cells": [
    {
      "cell_type": "markdown",
      "metadata": {
        "id": "view-in-github",
        "colab_type": "text"
      },
      "source": [
        "<a href=\"https://colab.research.google.com/github/valeradiego/EasyTestGit/blob/main/Copy_of_AlgoritmoAvanceTesis.ipynb\" target=\"_parent\"><img src=\"https://colab.research.google.com/assets/colab-badge.svg\" alt=\"Open In Colab\"/></a>"
      ]
    },
    {
      "cell_type": "code",
      "execution_count": null,
      "metadata": {
        "id": "1QydFh3fu1zA"
      },
      "outputs": [],
      "source": [
        "import numpy as np\n",
        "from scipy.linalg import expm\n",
        "from scipy.optimize import least_squares\n",
        "import os\n",
        "\n",
        "def extract_euler_angles(U):\n",
        "    # Definir el sistema de ecuaciones no lineales como una función objetivo\n",
        "    def equations(vars):\n",
        "        gamma, beta,alpha = vars\n",
        "        eq1 = np.cos(gamma/2)*np.cos(beta/2)*np.cos(alpha/2)-np.sin(gamma/2)*np.cos(beta/2)*np.sin(alpha/2) - U[0,0].real\n",
        "        eq2 = np.cos(gamma/2)*np.sin(beta/2)*np.sin(alpha/2)-np.sin(gamma/2)*np.sin(beta/2)*np.cos(alpha/2) - U[0,1].imag\n",
        "        eq3 = np.cos(gamma/2)*np.cos(beta/2)*np.sin(alpha/2)+np.sin(gamma/2)*np.cos(beta/2)*np.cos(alpha/2) + U[0,1].real\n",
        "        eq4 = np.cos(gamma/2)*np.sin(beta/2)*np.cos(alpha/2)+np.sin(gamma/2)*np.sin(beta/2)*np.sin(alpha/2) + U[0,0].imag\n",
        "        return [eq1, eq2, eq3, eq4]\n",
        "\n",
        "    # Definir las restricciones en las variables\n",
        "    bounds = ([-np.pi, -np.pi, -np.pi], [np.pi, np.pi, np.pi])\n",
        "\n",
        "    # Proporcionar una estimación inicial para las soluciones\n",
        "    initial_guess = [0, 0, 0]\n",
        "\n",
        "    # Resolver el sistema de ecuaciones con restricciones\n",
        "    result = least_squares(equations, initial_guess, bounds=bounds)\n",
        "\n",
        "    # Mostrar el resultado\n",
        "    if result.success:\n",
        "        solution = result.x\n",
        "        print(\"Soluciones:\")\n",
        "        print(\"gamma =\", solution[0])\n",
        "        print(\"beta =\", solution[1])\n",
        "        print(\"alpha =\", solution[2])\n",
        "    else:\n",
        "        print(\"No se encontró una solución.\")\n",
        "    return solution[0], solution[1], solution[2]\n",
        "\n",
        "# Definir la función para calcular la transpuesta conjugada (adjunta)\n",
        "def daga(matrix):\n",
        "    return np.conjugate(matrix).T\n",
        "\n",
        "# Definir la función para el producto tensorial de dos estados\n",
        "def tensor_product(state1, state2):\n",
        "    return np.kron(state1, state2)\n",
        "import numpy as np\n",
        "\n",
        "# Definir una función para crear la base de un sistema bipartito\n",
        "def bipartite_base(base1, base2):\n",
        "    bipartite_states = []\n",
        "    for state1 in base1:\n",
        "        for state2 in base2:\n",
        "            bipartite_states.append(tensor_product(state1, state2))\n",
        "    return bipartite_states\n",
        "\n",
        "# Definir la función para la transformación de estados bipartitos\n",
        "def matrix_bipartite_transform(base_out, base_in):\n",
        "    S = 0\n",
        "    for i in range(len(base_out)):\n",
        "        S += np.dot(base_out[i], daga(base_in[i]))\n",
        "    return S\n",
        "\n",
        "def matrix_break(S):\n",
        "    Srr=S[0:2,0:2]\n",
        "    Srl=S[0:2,2:4]\n",
        "    Slr=S[2:4,0:2]\n",
        "    Sll=S[2:4,2:4]\n",
        "    return Srr, Srl, Slr, Sll\n",
        "\n",
        "def euler_to_englert(gamma, beta, alpha):\n",
        "    gamma_pol=gamma/2-3*np.pi/4\n",
        "    alpha_pol=-alpha/2+np.pi/4\n",
        "    beta_pol=beta/4+gamma_pol/2+alpha_pol/2\n",
        "    return gamma_pol, beta_pol, alpha_pol\n",
        "\n",
        "def QWP(theta):\n",
        "    return 1/np.sqrt(2)*np.array([[1 - 1j * np.cos(2*theta), -1j * np.sin(2*theta) ], [-1j * np.sin(2*theta) , 1 + 1j * np.cos(2*theta)]])\n",
        "\n",
        "def HWP(theta):\n",
        "    return np.dot(QWP(theta),QWP(theta))\n",
        "\n",
        "def Upol(gamma,beta,alpha,phase=1):\n",
        "    return np.dot(QWP(gamma),np.dot(HWP(beta),QWP(alpha)))*phase\n",
        "\n",
        "def Vtry(gamma,beta,alpha,phase):\n",
        "    return expm(-1j*gamma/2*sigma_y)@expm(-1j*beta/2*sigma_z)@expm(-1j*alpha/2*sigma_y)*phase\n",
        "\n",
        "def MZinterferometer(Mz1, Mz2, Mzr, Mzl, x1, x2):\n",
        "    # Crear el contenido a imprimir y escribir en el archivo\n",
        "    content = (\n",
        "        f\"Las características de nuestro interferómetro MZ para medir las probabilidades del sistema bipartito P+ {x1} + {x2}, P+ {x1} - {x2}, P- {x1} + {x2}, P- {x1} - {x2} son:\\n\"\n",
        "        f\". V1= {Mz1[4]},\\n gamma1= {Mz1[0]:.4f},\\n beta1= {Mz1[1]:.4f},\\n alpha1= {Mz1[2]:.4f},\\n phase1= {Mz1[3]:.4f}\\n\"\n",
        "        f\". V2= {Mz2[4]},\\n gamma2= {Mz2[0]:.4f},\\n beta2= {Mz2[1]:.4f},\\n alpha2= {Mz2[2]:.4f},\\n phase2= {Mz2[3]:.4f}\\n\"\n",
        "        f\". Vr= {Mzr[4]},\\n gammar= {Mzr[0]:.4f},\\n betar= {Mzr[1]:.4f},\\n alphar= {Mzr[2]:.4f},\\n phaser= {Mzr[3]:.4f}\\n\"\n",
        "        f\". Vl= {Mzl[4]},\\n gammal= {Mzl[0]:.4f},\\n betal= {Mzl[1]:.4f},\\n alphal= {Mzl[2]:.4f},\\n phasel= {Mzl[3]:.4f}\"\n",
        "    )\n",
        "\n",
        "    # Imprimir el contenido en la consola\n",
        "    print(content)\n",
        "\n",
        "    # Obtener la ruta actual de trabajo\n",
        "    current_directory = os.getcwd()\n",
        "    print(f\"Guardando archivo en: {current_directory}\")\n",
        "\n",
        "    # Definir el nombre del archivo\n",
        "    filename = f\"MZ_{x1}_{x2}.txt\"\n",
        "    filepath = os.path.join(current_directory, filename)\n",
        "\n",
        "    # Escribir el contenido en un archivo de texto\n",
        "    with open(filepath, 'w') as file:\n",
        "        file.write(content)\n",
        "\n",
        "\n",
        "# Definir los estados |+z> y |-z>\n",
        "plus_z = np.array([[1], [0]])\n",
        "minus_z = np.array([[0], [1]])\n",
        "base_z = [plus_z, minus_z]\n",
        "\n",
        "# Generar el estado |+x> y |-x> a partir de |+z> y |-z>\n",
        "plus_x = 1/np.sqrt(2) * (plus_z + minus_z)\n",
        "minus_x = 1/np.sqrt(2) * (plus_z - minus_z)\n",
        "base_x = [plus_x, minus_x]\n",
        "\n",
        "# Generar el estado |+y> y |-y> a partir de |+z> y |-z>\n",
        "plus_y = 1/np.sqrt(2) * (plus_z + 1j * minus_z)\n",
        "minus_y = 1/np.sqrt(2) * (plus_z - 1j * minus_z)\n",
        "base_y = [plus_y, minus_y]\n",
        "\n",
        "#Definir matrices de Pauli\n",
        "sigma_x = np.array([[0, 1], [1, 0]], dtype=complex)\n",
        "sigma_y = np.array([[0, -1j], [1j, 0]], dtype=complex)\n",
        "sigma_z = np.array([[1, 0], [0, -1]], dtype=complex)"
      ]
    },
    {
      "cell_type": "code",
      "execution_count": null,
      "metadata": {
        "id": "sa-vsy-Yu1zG"
      },
      "outputs": [],
      "source": [
        "base_zz=bipartite_base(base_z,base_z)\n",
        "\n",
        "base_zx=bipartite_base(base_z,base_x)\n",
        "base_zy=bipartite_base(base_z,base_y)\n",
        "base_xz=bipartite_base(base_x,base_z)\n",
        "base_xx=bipartite_base(base_x,base_x)\n",
        "base_xy=bipartite_base(base_x,base_y)\n",
        "base_yz=bipartite_base(base_y,base_z)\n",
        "base_yx=bipartite_base(base_y,base_x)\n",
        "base_yy=bipartite_base(base_y,base_y)\n",
        "\n"
      ]
    },
    {
      "cell_type": "code",
      "execution_count": null,
      "metadata": {
        "id": "2Oq8IQRuu1zH",
        "outputId": "0f8d22ae-e178-43c2-dc57-e91cddc30f9a"
      },
      "outputs": [
        {
          "data": {
            "text/plain": [
              "array([[[1.],\n",
              "        [0.],\n",
              "        [0.],\n",
              "        [0.]],\n",
              "\n",
              "       [[0.],\n",
              "        [1.],\n",
              "        [0.],\n",
              "        [0.]],\n",
              "\n",
              "       [[0.],\n",
              "        [0.],\n",
              "        [1.],\n",
              "        [0.]],\n",
              "\n",
              "       [[0.],\n",
              "        [0.],\n",
              "        [0.],\n",
              "        [1.]]])"
            ]
          },
          "execution_count": 3,
          "metadata": {},
          "output_type": "execute_result"
        }
      ],
      "source": [
        "#Hallamos la transformación correspondiente a base_xx\n",
        "\n",
        "Sxx=matrix_bipartite_transform(base_zz,base_xx)\n",
        "\n",
        "#Comprobamos\n",
        "np.dot(Sxx,base_xx)"
      ]
    },
    {
      "cell_type": "code",
      "execution_count": null,
      "metadata": {
        "id": "W-yTfrTvu1zJ",
        "outputId": "f7cdda53-6049-400d-be7f-ac29950bd272"
      },
      "outputs": [
        {
          "data": {
            "text/plain": [
              "(array([[ 0.5,  0.5],\n",
              "        [ 0.5, -0.5]]),\n",
              " array([[ 0.5,  0.5],\n",
              "        [ 0.5, -0.5]]),\n",
              " array([[ 0.5,  0.5],\n",
              "        [ 0.5, -0.5]]),\n",
              " array([[-0.5, -0.5],\n",
              "        [-0.5,  0.5]]))"
            ]
          },
          "execution_count": 4,
          "metadata": {},
          "output_type": "execute_result"
        }
      ],
      "source": [
        "#Construimos las martices Srr, Srl, Slr y Sll\n",
        "\n",
        "Srr, Srl, Slr, Sll=matrix_break(Sxx)\n",
        "Srr,Srl,Slr,Sll"
      ]
    },
    {
      "cell_type": "code",
      "execution_count": null,
      "metadata": {
        "id": "5QjsUCngu1zJ",
        "outputId": "bb2990e9-fc71-40b3-c25e-f655b85828e9"
      },
      "outputs": [
        {
          "data": {
            "text/plain": [
              "[array([[1., 0.],\n",
              "        [0., 1.]]),\n",
              " array([[1., 0.],\n",
              "        [0., 1.]]),\n",
              " array([[0., 0.],\n",
              "        [0., 0.]])]"
            ]
          },
          "execution_count": 5,
          "metadata": {},
          "output_type": "execute_result"
        }
      ],
      "source": [
        "#Verificamos condiciones de S\n",
        "\n",
        "Cond1=np.dot(np.conjugate(Srr.T),Srr)+np.dot(np.conjugate(Slr.T),Slr)\n",
        "Cond2=np.dot(np.conjugate(Sll.T),Sll)+np.dot(np.conjugate(Srl.T),Srl)\n",
        "Cond3=np.dot(np.conjugate(Srr.T),Srl)+np.dot(np.conjugate(Slr.T),Sll)\n",
        "[Cond1,Cond2,Cond3]"
      ]
    },
    {
      "cell_type": "code",
      "execution_count": null,
      "metadata": {
        "id": "6Mk_stsXu1zK",
        "outputId": "758a01b1-0506-4c41-d9ba-2979c733df56"
      },
      "outputs": [
        {
          "data": {
            "text/plain": [
              "(array([0.5, 0.5]),\n",
              " array([[1., 0.],\n",
              "        [0., 1.]]))"
            ]
          },
          "execution_count": 6,
          "metadata": {},
          "output_type": "execute_result"
        }
      ],
      "source": [
        "#Hallamos psi, psi_barra, chi, chi_barra, theta, curlytheta y posteriormente sus fases\n",
        "\n",
        "eigenvalues_psi, eigenvectors_psi = np.linalg.eig(np.dot(daga(Srr),Srr))\n",
        "eigenvalues_psi, eigenvectors_psi"
      ]
    },
    {
      "cell_type": "code",
      "execution_count": null,
      "metadata": {
        "id": "bDWxHs2ju1zK"
      },
      "outputs": [],
      "source": [
        "curlytheta=np.arccos(np.sqrt(eigenvalues_psi[0]))\n",
        "theta=np.arccos(np.sqrt(eigenvalues_psi[1]))\n",
        "psi1=np.asarray([eigenvectors_psi[0]]).T\n",
        "psi2=np.asarray([eigenvectors_psi[1]]).T\n"
      ]
    },
    {
      "cell_type": "code",
      "execution_count": null,
      "metadata": {
        "id": "TgwsKqBxu1zL"
      },
      "outputs": [],
      "source": [
        "#Hallamos psi, psi_barra, chi, chi_barra, theta, curlytheta\n",
        "if np.max(np.abs(Srl))<1e-10:\n",
        "\n",
        "    curlytheta=0\n",
        "    theta=0\n",
        "    psi1=plus_z\n",
        "    psi2=minus_z\n",
        "\n",
        "    psi_barra1=np.dot(Srr,psi1)\n",
        "    psi_barra2=np.dot(Srr,psi2)\n",
        "\n",
        "    chi1=plus_y\n",
        "    chi2=minus_y\n",
        "\n",
        "    chi_barra1=np.dot(Sll,chi1)\n",
        "    chi_barra2=np.dot(Sll,chi2)\n",
        "else:\n",
        "    psi_barra1=np.dot(Srr,psi1)/np.sqrt(eigenvalues_psi[0])\n",
        "    psi_barra2=np.dot(Srr,psi2)/np.sqrt(eigenvalues_psi[1])\n",
        "    chi_barra1=1j*np.dot(Slr,psi1)/np.sqrt(1-eigenvalues_psi[0])\n",
        "    chi_barra2=1j*np.dot(Slr,psi2)/np.sqrt(1-eigenvalues_psi[1])\n",
        "    chi1=np.dot(daga(Sll),chi_barra1)/np.sqrt(eigenvalues_psi[0])\n",
        "    chi2=np.dot(daga(Sll),chi_barra2)/np.sqrt(eigenvalues_psi[1])"
      ]
    },
    {
      "cell_type": "code",
      "execution_count": null,
      "metadata": {
        "id": "Djqc8q6Su1zL",
        "outputId": "b663c3d9-064b-49a6-f196-34c88432bf4d"
      },
      "outputs": [
        {
          "data": {
            "text/plain": [
              "array([[1.],\n",
              "       [0.]])"
            ]
          },
          "execution_count": 9,
          "metadata": {},
          "output_type": "execute_result"
        }
      ],
      "source": [
        "psi1"
      ]
    },
    {
      "cell_type": "code",
      "execution_count": null,
      "metadata": {
        "id": "gfhbK1fEu1zM",
        "outputId": "44e0ad91-3f40-40f4-8bcd-b287cdf2a27e"
      },
      "outputs": [
        {
          "data": {
            "text/plain": [
              "(array([[0.70710678],\n",
              "        [0.70710678]]),\n",
              " array([[ 0.70710678],\n",
              "        [-0.70710678]]),\n",
              " array([[0.-1.j],\n",
              "        [0.+0.j]]),\n",
              " array([[0.+0.j],\n",
              "        [0.-1.j]]),\n",
              " array([[0.+0.70710678j],\n",
              "        [0.+0.70710678j]]),\n",
              " array([[ 0.+0.70710678j],\n",
              "        [-0.-0.70710678j]]))"
            ]
          },
          "execution_count": 10,
          "metadata": {},
          "output_type": "execute_result"
        }
      ],
      "source": [
        "psi_barra1,psi_barra2,chi1,chi2,chi_barra1,chi_barra2"
      ]
    },
    {
      "cell_type": "code",
      "execution_count": null,
      "metadata": {
        "id": "ihXPMW2gu1zN"
      },
      "outputs": [],
      "source": [
        "#Creamos las matrices V eligiendo entre 4 posibles combinaciones segun englert\n",
        "i=1 #1=up 2=down\n",
        "j=1 #1=up 2=down\n",
        "signo1=(-1)**(i)\n",
        "signo2=(-1)**(j)\n",
        "V1=signo1*1j*np.dot(chi1,daga(psi1))+signo2*1j*np.dot(chi2,daga(psi2))\n",
        "V2=-signo1*1j*np.dot(psi_barra1,daga(chi_barra1))+-signo2*1j*np.dot(psi_barra2,daga(chi_barra2))\n",
        "Vr=np.exp(signo1*1j*curlytheta)*np.dot(chi_barra1,daga(chi1))+np.exp(signo2*1j*theta)*np.dot(chi_barra2,daga(chi2))\n",
        "Vl=np.exp(-signo1*1j*curlytheta)*np.dot(chi_barra1,daga(chi1))+np.exp(-signo2*1j*theta)*np.dot(chi_barra2,daga(chi2))"
      ]
    },
    {
      "cell_type": "code",
      "execution_count": null,
      "metadata": {
        "id": "Fm9OTn2Du1zN",
        "outputId": "83031424-f065-4d6c-d6cb-1f7342507d2d"
      },
      "outputs": [
        {
          "name": "stdout",
          "output_type": "stream",
          "text": [
            "[[ 0.5+0.j  0.5+0.j]\n",
            " [ 0.5+0.j -0.5+0.j]] \n",
            " [[ 0.5-0.j  0.5-0.j]\n",
            " [ 0.5-0.j -0.5+0.j]] \n",
            " [[ 0.5+0.j  0.5+0.j]\n",
            " [ 0.5+0.j -0.5+0.j]] \n",
            " [[-0.5+0.j -0.5+0.j]\n",
            " [-0.5+0.j  0.5+0.j]]\n"
          ]
        }
      ],
      "source": [
        "Srr_confirm=1/2*np.dot(V2,np.dot(Vr+Vl,V1))\n",
        "Sll_confirm=1/2*(Vr+Vl)\n",
        "Srl_confirm=-1j/2*np.dot(V2,Vr-Vl)\n",
        "Slr_confirm=1j/2*np.dot(Vr-Vl,V1)\n",
        "\n",
        "np.set_printoptions(precision=5)\n",
        "print(Srr_confirm,\"\\n\", Srl_confirm,\"\\n\", Slr_confirm,\"\\n\", Sll_confirm)\n"
      ]
    },
    {
      "cell_type": "code",
      "execution_count": null,
      "metadata": {
        "id": "2MusR936u1zN",
        "outputId": "8b9eff64-237c-42ad-9751-960dc3837ac3"
      },
      "outputs": [
        {
          "name": "stdout",
          "output_type": "stream",
          "text": [
            "[[ 0.5  0.5  0.5  0.5]\n",
            " [ 0.5 -0.5  0.5 -0.5]\n",
            " [ 0.5  0.5 -0.5 -0.5]\n",
            " [ 0.5 -0.5 -0.5  0.5]]\n"
          ]
        }
      ],
      "source": [
        "np.set_printoptions(precision=5)\n",
        "print(Sxx)"
      ]
    },
    {
      "cell_type": "code",
      "execution_count": null,
      "metadata": {
        "id": "EsMFFYjFu1zN",
        "outputId": "de046622-8f6c-4c3f-e6fc-825b2637f8b7"
      },
      "outputs": [
        {
          "data": {
            "text/plain": [
              "array([7.21645e-16, 2.77556e-16, 2.77556e-16, 3.88578e-16])"
            ]
          },
          "execution_count": 14,
          "metadata": {},
          "output_type": "execute_result"
        }
      ],
      "source": [
        "errorS=np.asarray([np.max(np.abs(Srr-Srr_confirm)),np.max(np.abs(Srl-Srl_confirm)),np.max(np.abs(Slr-Slr_confirm)),np.max(np.abs(Sll-Sll_confirm))])\n",
        "errorS"
      ]
    },
    {
      "cell_type": "code",
      "execution_count": null,
      "metadata": {
        "id": "146TRIN4u1zO",
        "outputId": "db4d2f21-0be0-4f25-c852-5d860f4800c3"
      },
      "outputs": [
        {
          "data": {
            "text/plain": [
              "(array([[-1.+0.j,  0.-0.j],\n",
              "        [ 0.-0.j, -1.+0.j]]),\n",
              " array([[1.+0.j, 0.+0.j],\n",
              "        [0.+0.j, 1.+0.j]]),\n",
              " array([[-0.5+0.5j, -0.5+0.5j],\n",
              "        [-0.5+0.5j,  0.5-0.5j]]),\n",
              " array([[-0.5-0.5j, -0.5-0.5j],\n",
              "        [-0.5-0.5j,  0.5+0.5j]]))"
            ]
          },
          "execution_count": 15,
          "metadata": {},
          "output_type": "execute_result"
        }
      ],
      "source": [
        "V1,V2,Vr,Vl"
      ]
    },
    {
      "cell_type": "code",
      "execution_count": null,
      "metadata": {
        "id": "RXw2vscLu1zO"
      },
      "outputs": [],
      "source": [
        "#elegir el signo correspondiente segun los errores en V\n",
        "phase1=-np.sqrt(np.linalg.det(V1))\n",
        "phase2=np.sqrt(np.linalg.det(V2))\n",
        "phaser=-np.sqrt(np.linalg.det(Vr))\n",
        "phasel=-np.sqrt(np.linalg.det(Vl))"
      ]
    },
    {
      "cell_type": "code",
      "execution_count": null,
      "metadata": {
        "id": "V1bNPf1Qu1zO",
        "outputId": "59db6026-284c-4433-971d-b1c98f9fd802"
      },
      "outputs": [
        {
          "name": "stdout",
          "output_type": "stream",
          "text": [
            "Soluciones:\n",
            "gamma = 0.0\n",
            "beta = 0.0\n",
            "alpha = 0.0\n",
            "[[-1.-0.j  0.-0.j]\n",
            " [ 0.-0.j -1.-0.j]]\n",
            "[[-1.+0.j  0.-0.j]\n",
            " [ 0.-0.j -1.+0.j]]\n"
          ]
        }
      ],
      "source": [
        "gamma1,beta1,alpha1=extract_euler_angles(V1/phase1)\n",
        "Vtry1 = Vtry(gamma1,beta1,alpha1,phase1)\n",
        "print(Vtry1)\n",
        "print(V1)"
      ]
    },
    {
      "cell_type": "code",
      "execution_count": null,
      "metadata": {
        "id": "b6TBR5nGu1zP",
        "outputId": "f62bf819-14f4-4e22-ba74-6834dc9d732a"
      },
      "outputs": [
        {
          "name": "stdout",
          "output_type": "stream",
          "text": [
            "Soluciones:\n",
            "gamma = 0.0\n",
            "beta = 0.0\n",
            "alpha = 0.0\n",
            "[[1.+0.j 0.+0.j]\n",
            " [0.+0.j 1.+0.j]]\n",
            "[[1.+0.j 0.+0.j]\n",
            " [0.+0.j 1.+0.j]]\n"
          ]
        }
      ],
      "source": [
        "gamma2,beta2,alpha2=extract_euler_angles(V2/phase2)\n",
        "Vtry2 = Vtry(gamma2,beta2,alpha2,phase2)\n",
        "print(Vtry2)\n",
        "print(V2)"
      ]
    },
    {
      "cell_type": "code",
      "execution_count": null,
      "metadata": {
        "id": "fokA2Bf2u1zQ",
        "outputId": "e9cd6148-1219-4f7e-cb2b-66d9968f5468"
      },
      "outputs": [
        {
          "name": "stdout",
          "output_type": "stream",
          "text": [
            "Soluciones:\n",
            "gamma = 0.7853981577997613\n",
            "beta = 3.1414378629423916\n",
            "alpha = -0.7853981689946163\n",
            "[[-0.50005+0.49995j -0.5    +0.5j    ]\n",
            " [-0.5    +0.5j      0.49995-0.50005j]]\n",
            "[[-0.5+0.5j -0.5+0.5j]\n",
            " [-0.5+0.5j  0.5-0.5j]]\n"
          ]
        }
      ],
      "source": [
        "gammar,betar,alphar=extract_euler_angles(Vr/phaser)\n",
        "Vtryr = Vtry(gammar,betar,alphar,phaser)\n",
        "print(Vtryr)\n",
        "print(Vr)"
      ]
    },
    {
      "cell_type": "code",
      "execution_count": null,
      "metadata": {
        "id": "lzaEyrTCu1zQ",
        "outputId": "fc97db96-279f-4d52-b208-26ffd41dc48d"
      },
      "outputs": [
        {
          "name": "stdout",
          "output_type": "stream",
          "text": [
            "Soluciones:\n",
            "gamma = 0.7853981745610867\n",
            "beta = -3.1414378629426656\n",
            "alpha = -0.7853981522338096\n",
            "[[-0.50005-0.49995j -0.5    -0.5j    ]\n",
            " [-0.5    -0.5j      0.49995+0.50005j]]\n",
            "[[-0.5-0.5j -0.5-0.5j]\n",
            " [-0.5-0.5j  0.5+0.5j]]\n"
          ]
        }
      ],
      "source": [
        "gammal,betal,alphal=extract_euler_angles(Vl/phasel)\n",
        "Vtryl = Vtry(gammal,betal,alphal,phasel)\n",
        "print(Vtryl)\n",
        "print(Vl)"
      ]
    },
    {
      "cell_type": "code",
      "execution_count": null,
      "metadata": {
        "id": "-0dYb8pLu1zQ"
      },
      "outputs": [],
      "source": [
        "gamma_pol1, beta_pol1, alpha_pol1 = euler_to_englert(gamma1, beta1, alpha1)\n",
        "gamma_pol2, beta_pol2, alpha_pol2 = euler_to_englert(gamma2, beta2, alpha2)\n",
        "gamma_polr, beta_polr, alpha_polr = euler_to_englert(gammar, betar, alphar)\n",
        "gamma_poll, beta_poll, alpha_poll = euler_to_englert(gammal, betal, alphal)\n",
        "Mz1=[gamma_pol1,beta_pol1,alpha_pol1,phase1,V1]\n",
        "Mz2=[gamma_pol2,beta_pol2,alpha_pol2,phase2,V2]\n",
        "Mzr=[gamma_polr,beta_polr,alpha_polr,phaser,Vr]\n",
        "Mzl=[gamma_poll,beta_poll,alpha_poll,phasel,Vl]"
      ]
    },
    {
      "cell_type": "code",
      "execution_count": null,
      "metadata": {
        "id": "cpvSPZiPu1zQ"
      },
      "outputs": [],
      "source": [
        "Upol1=Upol(gamma_pol1,beta_pol1,alpha_pol1,phase1)\n",
        "Upol2=Upol(gamma_pol2,beta_pol2,alpha_pol2,phase2)\n",
        "Upolr=Upol(gamma_polr,beta_polr,alpha_polr,phaser)\n",
        "Upoll=Upol(gamma_poll,beta_poll,alpha_poll,phasel)"
      ]
    },
    {
      "cell_type": "code",
      "execution_count": null,
      "metadata": {
        "id": "-K9r-ZkIu1zR",
        "outputId": "21108640-5612-4a2b-a5eb-cc5e4ebee1e1"
      },
      "outputs": [
        {
          "data": {
            "text/plain": [
              "array([3.33067e-16, 3.33067e-16, 7.73953e-05, 7.73953e-05])"
            ]
          },
          "execution_count": 23,
          "metadata": {},
          "output_type": "execute_result"
        }
      ],
      "source": [
        "errorV=np.asarray([np.max(np.abs(Upol1-V1)),np.max(np.abs(Upol2-V2)),np.max(np.abs(Upolr-Vr)),np.max(np.abs(Upoll-Vl))])\n",
        "errorV"
      ]
    },
    {
      "cell_type": "code",
      "execution_count": null,
      "metadata": {
        "id": "rroggzC7u1zR",
        "outputId": "fb42fea2-abb8-4ec7-f6da-89dfac46f346"
      },
      "outputs": [
        {
          "name": "stdout",
          "output_type": "stream",
          "text": [
            "Las características de nuestro interferómetro MZ para medir las probabilidades del sistema bipartito P+ x + x, P+ x - x, P- x + x, P- x - x son:\n",
            ". V1= [[-1.+0.j  0.-0.j]\n",
            " [ 0.-0.j -1.+0.j]],\n",
            " gamma1= -2.3562,\n",
            " beta1= -0.7854,\n",
            " alpha1= 0.7854,\n",
            " phase1= -1.0000-0.0000j\n",
            ". V2= [[1.+0.j 0.+0.j]\n",
            " [0.+0.j 1.+0.j]],\n",
            " gamma2= -2.3562,\n",
            " beta2= -0.7854,\n",
            " alpha2= 0.7854,\n",
            " phase2= 1.0000+0.0000j\n",
            ". Vr= [[-0.5+0.5j -0.5+0.5j]\n",
            " [-0.5+0.5j  0.5-0.5j]],\n",
            " gammar= -1.9635,\n",
            " betar= 0.3927,\n",
            " alphar= 1.1781,\n",
            " phaser= -0.7071-0.7071j\n",
            ". Vl= [[-0.5-0.5j -0.5-0.5j]\n",
            " [-0.5-0.5j  0.5+0.5j]],\n",
            " gammal= -1.9635,\n",
            " betal= -1.1781,\n",
            " alphal= 1.1781,\n",
            " phasel= -0.7071+0.7071j\n",
            "Guardando archivo en: c:\\Users\\valer\\OneDrive\\Escritorio\\Tesis\\Matrices\n"
          ]
        }
      ],
      "source": [
        "MZinterferometer(Mz1, Mz2, Mzr, Mzl, \"x\", \"x\")"
      ]
    }
  ],
  "metadata": {
    "kernelspec": {
      "display_name": "base",
      "language": "python",
      "name": "python3"
    },
    "language_info": {
      "codemirror_mode": {
        "name": "ipython",
        "version": 3
      },
      "file_extension": ".py",
      "mimetype": "text/x-python",
      "name": "python",
      "nbconvert_exporter": "python",
      "pygments_lexer": "ipython3",
      "version": "3.9.19"
    },
    "colab": {
      "provenance": [],
      "include_colab_link": true
    }
  },
  "nbformat": 4,
  "nbformat_minor": 0
}