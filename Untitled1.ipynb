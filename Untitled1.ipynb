{
  "nbformat": 4,
  "nbformat_minor": 0,
  "metadata": {
    "colab": {
      "provenance": [],
      "authorship_tag": "ABX9TyMOUl7/9YW1X0pCX4RycPXf",
      "include_colab_link": true
    },
    "kernelspec": {
      "name": "python3",
      "display_name": "Python 3"
    },
    "language_info": {
      "name": "python"
    }
  },
  "cells": [
    {
      "cell_type": "markdown",
      "metadata": {
        "id": "view-in-github",
        "colab_type": "text"
      },
      "source": [
        "<a href=\"https://colab.research.google.com/github/valeradiego/EasyTestGit/blob/main/Untitled1.ipynb\" target=\"_parent\"><img src=\"https://colab.research.google.com/assets/colab-badge.svg\" alt=\"Open In Colab\"/></a>"
      ]
    },
    {
      "cell_type": "code",
      "execution_count": 2,
      "metadata": {
        "colab": {
          "base_uri": "https://localhost:8080/"
        },
        "id": "ecRPxlvmSpyS",
        "outputId": "cdb7fa6a-8983-4798-f190-a1cc8869c21e"
      },
      "outputs": [
        {
          "output_type": "stream",
          "name": "stdout",
          "text": [
            "Convergencia alcanzada en 5 iteraciones.\n",
            "Solución: [0.70710678 0.70710678]\n"
          ]
        }
      ],
      "source": [
        "import numpy as np\n",
        "\n",
        "def solve_system(fvec, jacb, xvec, tol, KMAX=1000):\n",
        "    for k in range(1, KMAX + 1):\n",
        "        f = fvec(xvec)\n",
        "        J = jacb(xvec)\n",
        "\n",
        "        # Resolver el sistema lineal J * dx = -f\n",
        "        dx = np.linalg.solve(J, -f)\n",
        "\n",
        "        # Actualizar la raíz\n",
        "        xvec = xvec + dx\n",
        "\n",
        "        # Comprobar la convergencia\n",
        "        if np.sum(np.abs(dx)) <= tol:\n",
        "            print(f\"Convergencia alcanzada en {k} iteraciones.\")\n",
        "            return xvec\n",
        "\n",
        "    print(\"Máximo número de iteraciones alcanzado\")\n",
        "    return xvec\n",
        "\n",
        "# Ejemplo de uso con funciones definidas\n",
        "def fvec(x):\n",
        "    # Ejemplo de función vectorial\n",
        "    return np.array([x[0]**2 + x[1]**2 - 1, x[0] - x[1]])\n",
        "\n",
        "def jacb(x):\n",
        "    # Ejemplo de Jacobiano\n",
        "    return np.array([[2*x[0], 2*x[1]], [1, -1]])\n",
        "\n",
        "# Valores iniciales\n",
        "xvec = np.array([0.5, 0.5])\n",
        "tol = 1e-6\n",
        "\n",
        "# Llamada a la función\n",
        "sol = solve_system(fvec, jacb, xvec, tol)\n",
        "print(\"Solución:\", sol)"
      ]
    },
    {
      "cell_type": "code",
      "source": [
        "import sympy as sp\n",
        "\n",
        "def symbolic_jacobian(fvec, vars):\n",
        "    \"\"\"\n",
        "    Calcula el Jacobiano de la función vectorial fvec simbólicamente.\n",
        "\n",
        "    Parámetros:\n",
        "    fvec : list of sympy expressions\n",
        "        Lista de expresiones simbólicas que definen la función vectorial.\n",
        "    vars : list of sympy symbols\n",
        "        Lista de variables simbólicas.\n",
        "\n",
        "    Retorna:\n",
        "    jac : sympy.Matrix\n",
        "        Matriz Jacobiana evaluada simbólicamente.\n",
        "    \"\"\"\n",
        "    jacobian_matrix = sp.Matrix(fvec).jacobian(vars)\n",
        "    return jacobian_matrix\n",
        "\n",
        "# Definir las variables simbólicas\n",
        "x, y = sp.symbols('x y')\n",
        "\n",
        "# Definir la función vectorial simbólicamente\n",
        "fvec = [x**2 + y**2 - 1, x - y]\n",
        "\n",
        "# Calcular el Jacobiano simbólicamente\n",
        "jac = symbolic_jacobian(fvec, [x, y])\n",
        "\n",
        "print(\"Jacobiano simbólico:\")\n",
        "sp.pprint(jac)"
      ],
      "metadata": {
        "colab": {
          "base_uri": "https://localhost:8080/"
        },
        "id": "J4KKW3GUVXOS",
        "outputId": "dd0a9186-00d1-4fe5-ce31-da05bf5d4dac"
      },
      "execution_count": 4,
      "outputs": [
        {
          "output_type": "stream",
          "name": "stdout",
          "text": [
            "Jacobiano simbólico:\n",
            "⎡2⋅x  2⋅y⎤\n",
            "⎢        ⎥\n",
            "⎣ 1   -1 ⎦\n"
          ]
        }
      ]
    },
    {
      "cell_type": "code",
      "source": [
        "import numpy as np\n",
        "import sympy as sp\n",
        "\n",
        "# Definir las variables simbólicas\n",
        "x, y = sp.symbols('x y')\n",
        "\n",
        "# Definir la función vectorial simbólicamente\n",
        "fvec_sym = sp.Matrix([x**2 + y**2 - 1, x - y])\n",
        "\n",
        "# Calcular el Jacobiano simbólicamente\n",
        "jacobian_sym = fvec_sym.jacobian([x, y])\n",
        "\n",
        "# Convertir las funciones simbólicas a funciones numéricas\n",
        "fvec_lambdified = sp.lambdify((x, y), fvec_sym, 'numpy')\n",
        "jacobian_lambdified = sp.lambdify((x, y), jacobian_sym, 'numpy')\n",
        "\n",
        "def fvec(xvec):\n",
        "    return np.array(fvec_lambdified(*xvec)).flatten()\n",
        "\n",
        "def jacb(xvec):\n",
        "    return np.array(jacobian_lambdified(*xvec))\n",
        "\n",
        "def solve_system(fvec, jacb, xvec, tol, KMAX=1000):\n",
        "    for k in range(1, KMAX + 1):\n",
        "        f = fvec(xvec)\n",
        "        J = jacb(xvec)\n",
        "\n",
        "        # Resolver el sistema lineal J * dx = -f\n",
        "        dx = np.linalg.solve(J, -f)\n",
        "\n",
        "        # Actualizar la raíz\n",
        "        xvec = xvec + dx\n",
        "\n",
        "        # Comprobar la convergencia\n",
        "        if np.sum(np.abs(dx)) <= tol:\n",
        "            print(f\"Convergencia alcanzada en {k} iteraciones.\")\n",
        "            return xvec\n",
        "\n",
        "    print(\"Máximo número de iteraciones alcanzado\")\n",
        "    return xvec\n",
        "\n",
        "# Valores iniciales\n",
        "xvec = np.array([0.5, 0.5])\n",
        "tol = 1e-6\n",
        "\n",
        "# Llamada a la función\n",
        "sol = solve_system(fvec, jacb, xvec, tol)\n",
        "print(\"Solución:\", sol)"
      ],
      "metadata": {
        "colab": {
          "base_uri": "https://localhost:8080/"
        },
        "id": "LzXjyLrpXLVt",
        "outputId": "ba0afd33-c569-42a6-801e-177eb6369fa8"
      },
      "execution_count": 5,
      "outputs": [
        {
          "output_type": "stream",
          "name": "stdout",
          "text": [
            "Convergencia alcanzada en 5 iteraciones.\n",
            "Solución: [0.70710678 0.70710678]\n"
          ]
        }
      ]
    },
    {
      "cell_type": "code",
      "source": [
        "import numpy as np\n",
        "\n",
        "# Definir los coeficientes del polinomio\n",
        "# Por ejemplo, para el polinomio 2x^2 + 3x + 4\n",
        "coefficients = [2, 3, 4]\n",
        "\n",
        "# Crear el objeto polinómico\n",
        "p = np.poly1d(coefficients)\n",
        "\n",
        "# Imprimir el polinomio\n",
        "print(\"Polinomio:\")\n",
        "print(p)\n",
        "\n",
        "# Evaluar el polinomio en un punto, por ejemplo x = 2\n",
        "x = 2\n",
        "print(f\"\\nEvaluar el polinomio en x = {x}:\")\n",
        "print(p(x))\n",
        "\n",
        "# Derivar el polinomio\n",
        "dp = p.deriv()\n",
        "print(\"\\nDerivada del polinomio:\")\n",
        "print(dp)\n",
        "\n",
        "# Integrar el polinomio\n",
        "ip = p.integ()\n",
        "print(\"\\nIntegral del polinomio:\")\n",
        "print(ip)\n",
        "\n",
        "# Encontrar las raíces del polinomio\n",
        "roots = p.roots\n",
        "print(\"\\nRaíces del polinomio:\")\n",
        "print(roots)"
      ],
      "metadata": {
        "colab": {
          "base_uri": "https://localhost:8080/"
        },
        "id": "6m3-0hqaXMMq",
        "outputId": "e745b5ac-eda2-4951-dd78-46faf7bcb248"
      },
      "execution_count": 6,
      "outputs": [
        {
          "output_type": "stream",
          "name": "stdout",
          "text": [
            "Polinomio:\n",
            "   2\n",
            "2 x + 3 x + 4\n",
            "\n",
            "Evaluar el polinomio en x = 2:\n",
            "18\n",
            "\n",
            "Derivada del polinomio:\n",
            " \n",
            "4 x + 3\n",
            "\n",
            "Integral del polinomio:\n",
            "        3       2\n",
            "0.6667 x + 1.5 x + 4 x\n",
            "\n",
            "Raíces del polinomio:\n",
            "[-0.75+1.19895788j -0.75-1.19895788j]\n"
          ]
        }
      ]
    },
    {
      "cell_type": "code",
      "source": [
        "import numpy.polynomial.polynomial as poly\n",
        "from numpy.polynomial import Polynomial as P"
      ],
      "metadata": {
        "id": "OgzxfkuMYMLe"
      },
      "execution_count": 7,
      "outputs": []
    },
    {
      "cell_type": "code",
      "source": [
        "\n",
        "\n",
        "# Definir los coeficientes del polinomio\n",
        "# Por ejemplo, para el polinomio 4 + 3x + 2x^2\n",
        "coefficients = [4, 3, 2]\n",
        "\n",
        "# Crear el objeto polinómico\n",
        "p = P(coefficients)\n",
        "\n",
        "# Imprimir el polinomio\n",
        "print(\"Polinomio:\")\n",
        "print(p)\n",
        "\n",
        "# Evaluar el polinomio en un punto, por ejemplo x = 2\n",
        "x = 2\n",
        "print(f\"\\nEvaluar el polinomio en x = {x}:\")\n",
        "print(p(x))\n",
        "\n",
        "# Derivar el polinomio\n",
        "dp = p.deriv()\n",
        "print(\"\\nDerivada del polinomio:\")\n",
        "print(dp)\n",
        "\n",
        "# Integrar el polinomio\n",
        "ip = p.integ()\n",
        "print(\"\\nIntegral del polinomio:\")\n",
        "print(ip)\n",
        "\n",
        "# Encontrar las raíces del polinomio\n",
        "roots = p.roots()\n",
        "print(\"\\nRaíces del polinomio:\")\n",
        "print(roots)"
      ],
      "metadata": {
        "colab": {
          "base_uri": "https://localhost:8080/"
        },
        "id": "Xb7k88QVYyEc",
        "outputId": "9cbcc119-a4ea-4116-8b92-9a5f7edb3e8a"
      },
      "execution_count": 8,
      "outputs": [
        {
          "output_type": "stream",
          "name": "stdout",
          "text": [
            "Polinomio:\n",
            "4.0 + 3.0·x + 2.0·x²\n",
            "\n",
            "Evaluar el polinomio en x = 2:\n",
            "18.0\n",
            "\n",
            "Derivada del polinomio:\n",
            "3.0 + 4.0·x\n",
            "\n",
            "Integral del polinomio:\n",
            "0.0 + 4.0·x + 1.5·x² + 0.66666667·x³\n",
            "\n",
            "Raíces del polinomio:\n",
            "[-0.75-1.19895788j -0.75+1.19895788j]\n"
          ]
        }
      ]
    },
    {
      "cell_type": "code",
      "source": [],
      "metadata": {
        "id": "d9a5Oz96and0"
      },
      "execution_count": null,
      "outputs": []
    }
  ]
}